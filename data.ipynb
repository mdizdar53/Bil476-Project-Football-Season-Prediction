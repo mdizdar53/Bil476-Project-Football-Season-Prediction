{
 "cells": [
  {
   "cell_type": "markdown",
   "id": "b8cbf8b1",
   "metadata": {},
   "source": [
    "## Veri Ön İşleme Notebook'u\n",
    "\n",
    "## Proje Tanıtımı\n",
    "Bu notebook, 2023-2024 Bundesliga sezonuna ait haftalık maç verilerini birleştirme, temizleme \n",
    "ve efficiency (şut isabet oranı) hesaplama adımlarını göstermektedir."
   ]
  },
  {
   "cell_type": "markdown",
   "id": "245c629d",
   "metadata": {},
   "source": [
    "## WebScraping yöntemi ile verilerin çekilmesi\n",
    "Githuba yüklediğim scrapeStatsAndSave.js ile her hafta ve sezon için veriler birleştirildi"
   ]
  },
  {
   "cell_type": "markdown",
   "id": "a40e797b",
   "metadata": {},
   "source": [
    "## 2. Verilerin Birleştirilmesi"
   ]
  },
  {
   "cell_type": "code",
   "execution_count": null,
   "id": "3d553858",
   "metadata": {},
   "outputs": [],
   "source": [
    "import pandas as pd\n",
    "import os\n",
    "\n",
    "data_dir = \"data\"\n",
    "all_weeks = []\n",
    "for week in range(1, 35):\n",
    "    filename = f\"week{week}.xlsx\"\n",
    "    path = os.path.join(data_dir, filename)\n",
    "    df_week = pd.read_excel(path)\n",
    "    df_week[\"Week\"] = week\n",
    "    all_weeks.append(df_week)\n",
    "\n",
    "full_data = pd.concat(all_weeks, ignore_index=True)\n",
    "full_data.to_csv(\"bundesliga_full.csv\", index=False)\n",
    "full_data.head()\n",
    "\n",
    "# Üzerine yazarak kaydet\n",
    "full_data.to_csv(\"bundesliga_full.csv\", index=False)\n",
    "print(\"Birleştirme tamamlandı, bundesliga_full.csv kaydedildi.\")"
   ]
  },
  {
   "cell_type": "markdown",
   "id": "05f393e6",
   "metadata": {},
   "source": [
    "Bu adımda 34 haftalık Excel dosyaları ve 10 sezon tek bir CSV dosyasında birleştirilmiştir.\n"
   ]
  },
  {
   "cell_type": "markdown",
   "id": "d83ef6e6",
   "metadata": {},
   "source": [
    "## 3. Veri Temizleme \n"
   ]
  },
  {
   "cell_type": "code",
   "execution_count": null,
   "id": "87c0a7b6",
   "metadata": {},
   "outputs": [],
   "source": [
    "import re\n",
    "\n",
    "df = pd.read_csv(\"bundesliga_full.csv\")\n",
    "\n",
    "columns_to_split = [\"HomePassing Accuracy\", \"AwayPassing Accuracy\",\n",
    "                    \"HomeShots on Target\", \"AwayShots on Target\",\n",
    "                    \"HomeSaves\", \"AwaySaves\"]\n",
    "\n",
    "def extract_three_parts(val):\n",
    "    val = str(val).replace('\\u00a0', ' ').replace('–', '-').replace('—', '-').replace('−', '-').strip()\n",
    "    match1 = re.search(r\"(\\d+)\\s*of\\s*(\\d+)\\s*-\\s*(\\d+)%\", val)\n",
    "    if match1:\n",
    "        return int(match1.group(1)), int(match1.group(2)), float(match1.group(3))\n",
    "    match2 = re.search(r\"(\\d+)%\\s*-\\s*(\\d+)\\s*of\\s*(\\d+)\", val)\n",
    "    if match2:\n",
    "        return int(match2.group(2)), int(match2.group(3)), float(match2.group(1))\n",
    "    return 0, 0, 0\n",
    "\n",
    "for col in columns_to_split:\n",
    "    success_list, total_list, percent_list = [], [], []\n",
    "    for val in df[col]:\n",
    "        success, total, percent = extract_three_parts(val)\n",
    "        success_list.append(success)\n",
    "        total_list.append(total)\n",
    "        percent_list.append(percent)\n",
    "    df[col + \"_Successful\"] = success_list\n",
    "    df[col + \"_Total\"] = total_list\n",
    "    df[col + \"_Percent\"] = percent_list\n",
    "\n",
    "df.drop(columns=columns_to_split, inplace=True)\n",
    "df.head()\n",
    "\n",
    "# Üzerine yazarak kaydet\n",
    "df.to_csv(\"bundesliga_full.csv\", index=False)\n",
    "print(\" Temizlik tamamlandı, bundesliga_full.csv güncellendi.\")"
   ]
  },
  {
   "cell_type": "markdown",
   "id": "622de9cd",
   "metadata": {},
   "source": [
    "## 4. Yeni Özniteliklerin Türetilmesi (Feature Engineering)\n",
    "\n",
    "Bu adımda veri setine yeni anlamlı öznitelikler (features) eklenmiştir. Amaç, modelin maç sonucunu daha iyi tahmin edebilmesi için daha anlamlı ve özetleyici bilgileri üretmektir."
   ]
  },
  {
   "cell_type": "code",
   "execution_count": null,
   "id": "c3a881e2",
   "metadata": {},
   "outputs": [],
   "source": [
    "import pandas as pd\n",
    "\n",
    "# Birleştirilmiş ve temizlenmiş veriyi oku\n",
    "df = pd.read_excel(\"bundesliga_full.csv\")  \n",
    "\n",
    "# 1️ Gol farkı\n",
    "df['GoalDiff'] = df['Home Goal'] - df['Away Goal']\n",
    "\n",
    "# 2️ xG farkı\n",
    "df['xGDiff'] = df['Home xG'] - df['Away xG']\n",
    "\n",
    "# 3️ Hücum verimliliği: atılan gol / xG\n",
    "df['HomeEfficiency'] = df['Home Goal'] / (df['Home xG'] + 1e-5)\n",
    "df['AwayEfficiency'] = df['Away Goal'] / (df['Away xG'] + 1e-5)\n",
    "\n",
    "# 4️ Şut isabet oranı\n",
    "if 'HomeShots on Target_Successful' in df.columns and 'HomeShots on Target_Total' in df.columns:\n",
    "    df[\"HomeShotEfficiency\"] = df[\"HomeShots on Target_Successful\"] / (df[\"HomeShots on Target_Total\"] + 1e-5)\n",
    "    df[\"AwayShotEfficiency\"] = df[\"AwayShots on Target_Successful\"] / (df[\"AwayShots on Target_Total\"] + 1e-5)\n",
    "\n",
    "# 5️ Kurtarış verimliliği\n",
    "if 'HomeSaves_Successful' in df.columns and 'HomeSaves_Total' in df.columns:\n",
    "    df[\"HomeSaveEfficiency\"] = df[\"HomeSaves_Successful\"] / (df[\"HomeSaves_Total\"] + 1e-5)\n",
    "    df[\"AwaySaveEfficiency\"] = df[\"AwaySaves_Successful\"] / (df[\"AwaySaves_Total\"] + 1e-5)\n",
    "\n",
    "# 6️ Topa sahip olma farkı\n",
    "if 'HomePossession' in df.columns and 'AwayPossession' in df.columns:\n",
    "    df['PossessionDiff'] = df['HomePossession'] - df['AwayPossession']\n",
    "\n",
    "# 7️ Pas isabet farkı\n",
    "if 'HomePassing Accuracy_Percent' in df.columns and 'AwayPassing Accuracy_Percent' in df.columns:\n",
    "    df['PassAccuracyDiff'] = df['HomePassing Accuracy_Percent'] - df['AwayPassing Accuracy_Percent']\n",
    "\n",
    "# 8️ Faul farkı\n",
    "if 'HomeFouls' in df.columns and 'AwayFouls' in df.columns:\n",
    "    df['FoulDiff'] = df['HomeFouls'] - df['AwayFouls']\n",
    "\n",
    "# 9️ Maç sonucu etiketi\n",
    "df['Winner'] = df.apply(\n",
    "    lambda x: 'Home' if x['Home Goal'] > x['Away Goal'] \n",
    "              else ('Away' if x['Away Goal'] > x['Home Goal'] else 'Draw'), axis=1\n",
    ")\n",
    "\n",
    "df.to_csv(\"bundesliga_full.csv\", index=False)\n",
    "print(\" Feature engineering tamamlandı, bundesliga_full.csv güncellendi.\")\n"
   ]
  },
  {
   "cell_type": "markdown",
   "id": "a8a9bc84",
   "metadata": {},
   "source": [
    "## 5. Ölçekleme Ve Normalizasyon"
   ]
  },
  {
   "cell_type": "code",
   "execution_count": null,
   "id": "f1b8bf32",
   "metadata": {},
   "outputs": [],
   "source": [
    "import pandas as pd\n",
    "from sklearn.preprocessing import MinMaxScaler, StandardScaler\n",
    "\n",
    "# 1. Veriyi yükle\n",
    "df = pd.read_csv(\"bundesliga_full.csv\")  \n",
    "\n",
    "# 2. Hedef değişkeni ayır\n",
    "y = df[\"Result\"]  # veya \"Winner\"\n",
    "X = df.drop(columns=[\"Result\", \"Winner\"], errors='ignore')\n",
    "\n",
    "# 3. Sadece sayısal sütunları seç\n",
    "numeric_cols = X.select_dtypes(include=[\"int64\", \"float64\"]).columns\n",
    "X_numeric = X[numeric_cols]\n",
    "\n",
    "# 4. MinMax Ölçekleme (0-1 aralığına)\n",
    "minmax_scaler = MinMaxScaler()\n",
    "X_minmax_scaled = pd.DataFrame(minmax_scaler.fit_transform(X_numeric), columns=numeric_cols)\n",
    "\n",
    "# 5. StandardScaler (z-score)\n",
    "standard_scaler = StandardScaler()\n",
    "X_standard_scaled = pd.DataFrame(standard_scaler.fit_transform(X_numeric), columns=numeric_cols)\n",
    "\n",
    "# 6. Gözlem için çıktı ver\n",
    "print(\"🔹 MinMaxScaled veri:\")\n",
    "print(X_minmax_scaled.head())\n",
    "\n",
    "print(\"\\n🔹 StandardScaled veri:\")\n",
    "print(X_standard_scaled.head())\n",
    "\n",
    "# Üzerine yazarak kaydet\n",
    "df.to_csv(\"bundesliga_full.csv\", index=False)\n",
    "print(\"✅ Ölçekleme/normalizasyon tamamlandı, bundesliga_full.csv güncellendi.\")"
   ]
  }
 ],
 "metadata": {
  "kernelspec": {
   "display_name": ".conda",
   "language": "python",
   "name": "python3"
  },
  "language_info": {
   "name": "python",
   "version": "3.9.19"
  }
 },
 "nbformat": 4,
 "nbformat_minor": 5
}
